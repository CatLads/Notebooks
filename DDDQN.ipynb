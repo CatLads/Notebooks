{
  "cells": [
    {
      "cell_type": "code",
      "metadata": {
        "tags": [],
        "cell_id": "00000-e9791b8d-f664-498d-85cd-f125c351220d",
        "deepnote_to_be_reexecuted": false,
        "source_hash": "fb84626b",
        "execution_millis": 5706,
        "output_cleared": false,
        "execution_start": 1618216428647,
        "deepnote_cell_type": "code"
      },
      "source": "!pip install flatland-rl tqdm",
      "execution_count": 1,
      "outputs": [
        {
          "name": "stdout",
          "text": "Requirement already satisfied: flatland-rl in /root/venv/lib/python3.7/site-packages (2.2.2)\nRequirement already satisfied: tqdm in /shared-libs/python3.7/py/lib/python3.7/site-packages (4.59.0)\nRequirement already satisfied: attrs in /shared-libs/python3.7/py-core/lib/python3.7/site-packages (from flatland-rl) (20.3.0)\nRequirement already satisfied: importlib-resources<2,>=1.0.1 in /root/venv/lib/python3.7/site-packages (from flatland-rl) (1.5.0)\nRequirement already satisfied: crowdai-api>=0.1.21 in /root/venv/lib/python3.7/site-packages (from flatland-rl) (0.1.22)\nRequirement already satisfied: matplotlib>=3.0.2 in /shared-libs/python3.7/py/lib/python3.7/site-packages (from flatland-rl) (3.3.4)\nRequirement already satisfied: recordtype>=1.3 in /root/venv/lib/python3.7/site-packages (from flatland-rl) (1.3)\nRequirement already satisfied: pytest-runner>=4.2 in /root/venv/lib/python3.7/site-packages (from flatland-rl) (5.3.0)\nRequirement already satisfied: pytest<5,>=3.8.2 in /root/venv/lib/python3.7/site-packages (from flatland-rl) (4.6.11)\nRequirement already satisfied: msgpack-numpy>=0.4.4.0 in /root/venv/lib/python3.7/site-packages (from flatland-rl) (0.4.7.1)\nRequirement already satisfied: msgpack==0.6.1 in /root/venv/lib/python3.7/site-packages (from flatland-rl) (0.6.1)\nRequirement already satisfied: graphviz in /root/venv/lib/python3.7/site-packages (from flatland-rl) (0.16)\nRequirement already satisfied: gym==0.14.0 in /root/venv/lib/python3.7/site-packages (from flatland-rl) (0.14.0)\nRequirement already satisfied: ipycanvas in /root/venv/lib/python3.7/site-packages (from flatland-rl) (0.8.2)\nRequirement already satisfied: imageio in /root/venv/lib/python3.7/site-packages (from flatland-rl) (2.9.0)\nRequirement already satisfied: Click>=7.0 in /shared-libs/python3.7/py/lib/python3.7/site-packages (from flatland-rl) (7.1.2)\nRequirement already satisfied: six>=1.12.0 in /shared-libs/python3.7/py-core/lib/python3.7/site-packages (from flatland-rl) (1.15.0)\nRequirement already satisfied: networkx in /root/venv/lib/python3.7/site-packages (from flatland-rl) (2.5.1)\nRequirement already satisfied: importlib-metadata>=0.17 in /shared-libs/python3.7/py-core/lib/python3.7/site-packages (from flatland-rl) (3.7.3)\nRequirement already satisfied: timeout-decorator>=0.4.1 in /root/venv/lib/python3.7/site-packages (from flatland-rl) (0.5.0)\nRequirement already satisfied: pandas>=0.25.1 in /shared-libs/python3.7/py/lib/python3.7/site-packages (from flatland-rl) (1.2.3)\nRequirement already satisfied: tox>=3.5.2 in /root/venv/lib/python3.7/site-packages (from flatland-rl) (3.23.0)\nRequirement already satisfied: numpy>=1.16.2 in /shared-libs/python3.7/py/lib/python3.7/site-packages (from flatland-rl) (1.19.5)\nRequirement already satisfied: Pillow>=5.4.1 in /shared-libs/python3.7/py/lib/python3.7/site-packages (from flatland-rl) (8.1.2)\nRequirement already satisfied: svgutils>=0.3.1 in /root/venv/lib/python3.7/site-packages (from flatland-rl) (0.3.4)\nRequirement already satisfied: pyarrow>=0.13.0 in /shared-libs/python3.7/py/lib/python3.7/site-packages (from flatland-rl) (3.0.0)\nRequirement already satisfied: zipp>=0.4; python_version < \"3.8\" in /shared-libs/python3.7/py-core/lib/python3.7/site-packages (from importlib-resources<2,>=1.0.1->flatland-rl) (3.4.1)\nRequirement already satisfied: redis in /root/venv/lib/python3.7/site-packages (from crowdai-api>=0.1.21->flatland-rl) (3.5.3)\nRequirement already satisfied: python-gitlab>=1.3.0 in /root/venv/lib/python3.7/site-packages (from crowdai-api>=0.1.21->flatland-rl) (2.6.0)\nRequirement already satisfied: requests>=2.18.4 in /shared-libs/python3.7/py/lib/python3.7/site-packages (from crowdai-api>=0.1.21->flatland-rl) (2.25.1)\nRequirement already satisfied: pyparsing!=2.0.4,!=2.1.2,!=2.1.6,>=2.0.3 in /shared-libs/python3.7/py-core/lib/python3.7/site-packages (from matplotlib>=3.0.2->flatland-rl) (2.4.7)\nRequirement already satisfied: kiwisolver>=1.0.1 in /shared-libs/python3.7/py/lib/python3.7/site-packages (from matplotlib>=3.0.2->flatland-rl) (1.3.1)\nRequirement already satisfied: cycler>=0.10 in /shared-libs/python3.7/py/lib/python3.7/site-packages (from matplotlib>=3.0.2->flatland-rl) (0.10.0)\nRequirement already satisfied: python-dateutil>=2.1 in /shared-libs/python3.7/py-core/lib/python3.7/site-packages (from matplotlib>=3.0.2->flatland-rl) (2.8.1)\nRequirement already satisfied: py>=1.5.0 in /shared-libs/python3.7/py/lib/python3.7/site-packages (from pytest<5,>=3.8.2->flatland-rl) (1.10.0)\nRequirement already satisfied: more-itertools>=4.0.0; python_version > \"2.7\" in /root/venv/lib/python3.7/site-packages (from pytest<5,>=3.8.2->flatland-rl) (8.7.0)\nRequirement already satisfied: pluggy<1.0,>=0.12 in /shared-libs/python3.7/py-core/lib/python3.7/site-packages (from pytest<5,>=3.8.2->flatland-rl) (0.13.1)\nRequirement already satisfied: wcwidth in /shared-libs/python3.7/py-core/lib/python3.7/site-packages (from pytest<5,>=3.8.2->flatland-rl) (0.2.5)\nRequirement already satisfied: packaging in /shared-libs/python3.7/py-core/lib/python3.7/site-packages (from pytest<5,>=3.8.2->flatland-rl) (20.9)\nRequirement already satisfied: atomicwrites>=1.0 in /root/venv/lib/python3.7/site-packages (from pytest<5,>=3.8.2->flatland-rl) (1.4.0)\nRequirement already satisfied: scipy in /shared-libs/python3.7/py/lib/python3.7/site-packages (from gym==0.14.0->flatland-rl) (1.6.1)\nRequirement already satisfied: cloudpickle~=1.2.0 in /root/venv/lib/python3.7/site-packages (from gym==0.14.0->flatland-rl) (1.2.2)\nRequirement already satisfied: pyglet<=1.3.2,>=1.2.0 in /root/venv/lib/python3.7/site-packages (from gym==0.14.0->flatland-rl) (1.3.2)\nRequirement already satisfied: ipywidgets>=7.6.0 in /root/venv/lib/python3.7/site-packages (from ipycanvas->flatland-rl) (7.6.3)\nRequirement already satisfied: orjson in /root/venv/lib/python3.7/site-packages (from ipycanvas->flatland-rl) (3.5.1)\nRequirement already satisfied: decorator<5,>=4.3 in /shared-libs/python3.7/py-core/lib/python3.7/site-packages (from networkx->flatland-rl) (4.4.2)\nRequirement already satisfied: typing-extensions>=3.6.4; python_version < \"3.8\" in /shared-libs/python3.7/py-core/lib/python3.7/site-packages (from importlib-metadata>=0.17->flatland-rl) (3.7.4.3)\nRequirement already satisfied: pytz>=2017.3 in /shared-libs/python3.7/py/lib/python3.7/site-packages (from pandas>=0.25.1->flatland-rl) (2021.1)\nRequirement already satisfied: virtualenv!=20.0.0,!=20.0.1,!=20.0.2,!=20.0.3,!=20.0.4,!=20.0.5,!=20.0.6,!=20.0.7,>=16.0.0 in /root/venv/lib/python3.7/site-packages (from tox>=3.5.2->flatland-rl) (20.4.3)\nRequirement already satisfied: filelock>=3.0.0 in /root/venv/lib/python3.7/site-packages (from tox>=3.5.2->flatland-rl) (3.0.12)\nRequirement already satisfied: toml>=0.9.4 in /shared-libs/python3.7/py/lib/python3.7/site-packages (from tox>=3.5.2->flatland-rl) (0.10.2)\nRequirement already satisfied: lxml in /shared-libs/python3.7/py/lib/python3.7/site-packages (from svgutils>=0.3.1->flatland-rl) (4.6.2)\nRequirement already satisfied: requests-toolbelt>=0.9.1 in /root/venv/lib/python3.7/site-packages (from python-gitlab>=1.3.0->crowdai-api>=0.1.21->flatland-rl) (0.9.1)\nRequirement already satisfied: certifi>=2017.4.17 in /shared-libs/python3.7/py/lib/python3.7/site-packages (from requests>=2.18.4->crowdai-api>=0.1.21->flatland-rl) (2020.12.5)\nRequirement already satisfied: urllib3<1.27,>=1.21.1 in /shared-libs/python3.7/py/lib/python3.7/site-packages (from requests>=2.18.4->crowdai-api>=0.1.21->flatland-rl) (1.26.4)\nRequirement already satisfied: idna<3,>=2.5 in /shared-libs/python3.7/py/lib/python3.7/site-packages (from requests>=2.18.4->crowdai-api>=0.1.21->flatland-rl) (2.10)\nRequirement already satisfied: chardet<5,>=3.0.2 in /shared-libs/python3.7/py/lib/python3.7/site-packages (from requests>=2.18.4->crowdai-api>=0.1.21->flatland-rl) (3.0.4)\nRequirement already satisfied: future in /shared-libs/python3.7/py/lib/python3.7/site-packages (from pyglet<=1.3.2,>=1.2.0->gym==0.14.0->flatland-rl) (0.18.2)\nRequirement already satisfied: widgetsnbextension~=3.5.0 in /root/venv/lib/python3.7/site-packages (from ipywidgets>=7.6.0->ipycanvas->flatland-rl) (3.5.1)\nRequirement already satisfied: traitlets>=4.3.1 in /shared-libs/python3.7/py-core/lib/python3.7/site-packages (from ipywidgets>=7.6.0->ipycanvas->flatland-rl) (5.0.5)\nRequirement already satisfied: ipykernel>=4.5.1 in /shared-libs/python3.7/py-core/lib/python3.7/site-packages (from ipywidgets>=7.6.0->ipycanvas->flatland-rl) (5.5.0)\nRequirement already satisfied: nbformat>=4.2.0 in /shared-libs/python3.7/py-core/lib/python3.7/site-packages (from ipywidgets>=7.6.0->ipycanvas->flatland-rl) (5.1.2)\nRequirement already satisfied: jupyterlab-widgets>=1.0.0; python_version >= \"3.6\" in /root/venv/lib/python3.7/site-packages (from ipywidgets>=7.6.0->ipycanvas->flatland-rl) (1.0.0)\nRequirement already satisfied: ipython>=4.0.0; python_version >= \"3.3\" in /shared-libs/python3.7/py-core/lib/python3.7/site-packages (from ipywidgets>=7.6.0->ipycanvas->flatland-rl) (7.21.0)\nRequirement already satisfied: distlib<1,>=0.3.1 in /root/venv/lib/python3.7/site-packages (from virtualenv!=20.0.0,!=20.0.1,!=20.0.2,!=20.0.3,!=20.0.4,!=20.0.5,!=20.0.6,!=20.0.7,>=16.0.0->tox>=3.5.2->flatland-rl) (0.3.1)\nRequirement already satisfied: appdirs<2,>=1.4.3 in /root/venv/lib/python3.7/site-packages (from virtualenv!=20.0.0,!=20.0.1,!=20.0.2,!=20.0.3,!=20.0.4,!=20.0.5,!=20.0.6,!=20.0.7,>=16.0.0->tox>=3.5.2->flatland-rl) (1.4.4)\nRequirement already satisfied: notebook>=4.4.1 in /shared-libs/python3.7/py-core/lib/python3.7/site-packages (from widgetsnbextension~=3.5.0->ipywidgets>=7.6.0->ipycanvas->flatland-rl) (7.0.0.dev0)\nRequirement already satisfied: ipython-genutils in /shared-libs/python3.7/py-core/lib/python3.7/site-packages (from traitlets>=4.3.1->ipywidgets>=7.6.0->ipycanvas->flatland-rl) (0.2.0)\nRequirement already satisfied: tornado>=4.2 in /shared-libs/python3.7/py-core/lib/python3.7/site-packages (from ipykernel>=4.5.1->ipywidgets>=7.6.0->ipycanvas->flatland-rl) (6.1)\nRequirement already satisfied: jupyter-client in /shared-libs/python3.7/py-core/lib/python3.7/site-packages (from ipykernel>=4.5.1->ipywidgets>=7.6.0->ipycanvas->flatland-rl) (6.1.12)\nRequirement already satisfied: jsonschema!=2.5.0,>=2.4 in /shared-libs/python3.7/py-core/lib/python3.7/site-packages (from nbformat>=4.2.0->ipywidgets>=7.6.0->ipycanvas->flatland-rl) (3.2.0)\nRequirement already satisfied: jupyter-core in /shared-libs/python3.7/py-core/lib/python3.7/site-packages (from nbformat>=4.2.0->ipywidgets>=7.6.0->ipycanvas->flatland-rl) (4.7.1)\nRequirement already satisfied: backcall in /shared-libs/python3.7/py-core/lib/python3.7/site-packages (from ipython>=4.0.0; python_version >= \"3.3\"->ipywidgets>=7.6.0->ipycanvas->flatland-rl) (0.2.0)\nRequirement already satisfied: jedi>=0.16 in /shared-libs/python3.7/py-core/lib/python3.7/site-packages (from ipython>=4.0.0; python_version >= \"3.3\"->ipywidgets>=7.6.0->ipycanvas->flatland-rl) (0.17.2)\nRequirement already satisfied: pexpect>4.3; sys_platform != \"win32\" in /shared-libs/python3.7/py-core/lib/python3.7/site-packages (from ipython>=4.0.0; python_version >= \"3.3\"->ipywidgets>=7.6.0->ipycanvas->flatland-rl) (4.8.0)\nRequirement already satisfied: pickleshare in /shared-libs/python3.7/py-core/lib/python3.7/site-packages (from ipython>=4.0.0; python_version >= \"3.3\"->ipywidgets>=7.6.0->ipycanvas->flatland-rl) (0.7.5)\nRequirement already satisfied: pygments in /shared-libs/python3.7/py-core/lib/python3.7/site-packages (from ipython>=4.0.0; python_version >= \"3.3\"->ipywidgets>=7.6.0->ipycanvas->flatland-rl) (2.8.1)\nRequirement already satisfied: prompt-toolkit!=3.0.0,!=3.0.1,<3.1.0,>=2.0.0 in /shared-libs/python3.7/py-core/lib/python3.7/site-packages (from ipython>=4.0.0; python_version >= \"3.3\"->ipywidgets>=7.6.0->ipycanvas->flatland-rl) (3.0.17)\nRequirement already satisfied: setuptools>=18.5 in /root/venv/lib/python3.7/site-packages (from ipython>=4.0.0; python_version >= \"3.3\"->ipywidgets>=7.6.0->ipycanvas->flatland-rl) (47.1.0)\nRequirement already satisfied: Send2Trash>=1.5.0 in /shared-libs/python3.7/py-core/lib/python3.7/site-packages (from notebook>=4.4.1->widgetsnbextension~=3.5.0->ipywidgets>=7.6.0->ipycanvas->flatland-rl) (1.5.0)\nRequirement already satisfied: argon2-cffi in /shared-libs/python3.7/py-core/lib/python3.7/site-packages (from notebook>=4.4.1->widgetsnbextension~=3.5.0->ipywidgets>=7.6.0->ipycanvas->flatland-rl) (20.1.0)\nRequirement already satisfied: pyzmq>=17 in /shared-libs/python3.7/py-core/lib/python3.7/site-packages (from notebook>=4.4.1->widgetsnbextension~=3.5.0->ipywidgets>=7.6.0->ipycanvas->flatland-rl) (22.0.3)\nRequirement already satisfied: nbconvert in /shared-libs/python3.7/py-core/lib/python3.7/site-packages (from notebook>=4.4.1->widgetsnbextension~=3.5.0->ipywidgets>=7.6.0->ipycanvas->flatland-rl) (6.0.7)\nRequirement already satisfied: terminado>=0.8.3 in /shared-libs/python3.7/py-core/lib/python3.7/site-packages (from notebook>=4.4.1->widgetsnbextension~=3.5.0->ipywidgets>=7.6.0->ipycanvas->flatland-rl) (0.9.3)\nRequirement already satisfied: prometheus-client in /shared-libs/python3.7/py-core/lib/python3.7/site-packages (from notebook>=4.4.1->widgetsnbextension~=3.5.0->ipywidgets>=7.6.0->ipycanvas->flatland-rl) (0.9.0)\nRequirement already satisfied: jinja2 in /shared-libs/python3.7/py-core/lib/python3.7/site-packages (from notebook>=4.4.1->widgetsnbextension~=3.5.0->ipywidgets>=7.6.0->ipycanvas->flatland-rl) (2.11.3)\nRequirement already satisfied: pyrsistent>=0.14.0 in /shared-libs/python3.7/py-core/lib/python3.7/site-packages (from jsonschema!=2.5.0,>=2.4->nbformat>=4.2.0->ipywidgets>=7.6.0->ipycanvas->flatland-rl) (0.17.3)\nRequirement already satisfied: parso<0.8.0,>=0.7.0 in /shared-libs/python3.7/py-core/lib/python3.7/site-packages (from jedi>=0.16->ipython>=4.0.0; python_version >= \"3.3\"->ipywidgets>=7.6.0->ipycanvas->flatland-rl) (0.7.1)\nRequirement already satisfied: ptyprocess>=0.5 in /shared-libs/python3.7/py-core/lib/python3.7/site-packages (from pexpect>4.3; sys_platform != \"win32\"->ipython>=4.0.0; python_version >= \"3.3\"->ipywidgets>=7.6.0->ipycanvas->flatland-rl) (0.7.0)\nRequirement already satisfied: cffi>=1.0.0 in /shared-libs/python3.7/py-core/lib/python3.7/site-packages (from argon2-cffi->notebook>=4.4.1->widgetsnbextension~=3.5.0->ipywidgets>=7.6.0->ipycanvas->flatland-rl) (1.14.5)\nRequirement already satisfied: mistune<2,>=0.8.1 in /shared-libs/python3.7/py-core/lib/python3.7/site-packages (from nbconvert->notebook>=4.4.1->widgetsnbextension~=3.5.0->ipywidgets>=7.6.0->ipycanvas->flatland-rl) (0.8.4)\nRequirement already satisfied: bleach in /shared-libs/python3.7/py-core/lib/python3.7/site-packages (from nbconvert->notebook>=4.4.1->widgetsnbextension~=3.5.0->ipywidgets>=7.6.0->ipycanvas->flatland-rl) (3.3.0)\nRequirement already satisfied: jupyterlab-pygments in /shared-libs/python3.7/py-core/lib/python3.7/site-packages (from nbconvert->notebook>=4.4.1->widgetsnbextension~=3.5.0->ipywidgets>=7.6.0->ipycanvas->flatland-rl) (0.1.2)\nRequirement already satisfied: testpath in /shared-libs/python3.7/py-core/lib/python3.7/site-packages (from nbconvert->notebook>=4.4.1->widgetsnbextension~=3.5.0->ipywidgets>=7.6.0->ipycanvas->flatland-rl) (0.4.4)\nRequirement already satisfied: defusedxml in /shared-libs/python3.7/py-core/lib/python3.7/site-packages (from nbconvert->notebook>=4.4.1->widgetsnbextension~=3.5.0->ipywidgets>=7.6.0->ipycanvas->flatland-rl) (0.7.1)\nRequirement already satisfied: pandocfilters>=1.4.1 in /shared-libs/python3.7/py-core/lib/python3.7/site-packages (from nbconvert->notebook>=4.4.1->widgetsnbextension~=3.5.0->ipywidgets>=7.6.0->ipycanvas->flatland-rl) (1.4.3)\nRequirement already satisfied: nbclient<0.6.0,>=0.5.0 in /shared-libs/python3.7/py-core/lib/python3.7/site-packages (from nbconvert->notebook>=4.4.1->widgetsnbextension~=3.5.0->ipywidgets>=7.6.0->ipycanvas->flatland-rl) (0.5.3)\nRequirement already satisfied: entrypoints>=0.2.2 in /shared-libs/python3.7/py-core/lib/python3.7/site-packages (from nbconvert->notebook>=4.4.1->widgetsnbextension~=3.5.0->ipywidgets>=7.6.0->ipycanvas->flatland-rl) (0.3)\nRequirement already satisfied: MarkupSafe>=0.23 in /shared-libs/python3.7/py-core/lib/python3.7/site-packages (from jinja2->notebook>=4.4.1->widgetsnbextension~=3.5.0->ipywidgets>=7.6.0->ipycanvas->flatland-rl) (1.1.1)\nRequirement already satisfied: pycparser in /shared-libs/python3.7/py-core/lib/python3.7/site-packages (from cffi>=1.0.0->argon2-cffi->notebook>=4.4.1->widgetsnbextension~=3.5.0->ipywidgets>=7.6.0->ipycanvas->flatland-rl) (2.20)\nRequirement already satisfied: webencodings in /shared-libs/python3.7/py-core/lib/python3.7/site-packages (from bleach->nbconvert->notebook>=4.4.1->widgetsnbextension~=3.5.0->ipywidgets>=7.6.0->ipycanvas->flatland-rl) (0.5.1)\nRequirement already satisfied: nest-asyncio in /shared-libs/python3.7/py-core/lib/python3.7/site-packages (from nbclient<0.6.0,>=0.5.0->nbconvert->notebook>=4.4.1->widgetsnbextension~=3.5.0->ipywidgets>=7.6.0->ipycanvas->flatland-rl) (1.5.1)\nRequirement already satisfied: async-generator in /shared-libs/python3.7/py-core/lib/python3.7/site-packages (from nbclient<0.6.0,>=0.5.0->nbconvert->notebook>=4.4.1->widgetsnbextension~=3.5.0->ipywidgets>=7.6.0->ipycanvas->flatland-rl) (1.10)\n\u001b[33mWARNING: You are using pip version 20.1.1; however, version 21.0.1 is available.\nYou should consider upgrading via the '/root/venv/bin/python -m pip install --upgrade pip' command.\u001b[0m\n",
          "output_type": "stream"
        }
      ]
    },
    {
      "cell_type": "code",
      "metadata": {
        "tags": [],
        "cell_id": "00001-019067b7-38fe-48b9-915a-920c00ced50e",
        "deepnote_to_be_reexecuted": false,
        "source_hash": "62b710a7",
        "execution_millis": 2564,
        "execution_start": 1618216434364,
        "deepnote_cell_type": "code"
      },
      "source": "from flatland.envs.rail_generators import sparse_rail_generator\nfrom flatland.envs.schedule_generators import sparse_schedule_generator\nfrom flatland.envs.rail_env import RailEnv, RailEnvActions\nfrom flatland.envs.rail_generators import complex_rail_generator\nfrom flatland.envs.observations import GlobalObsForRailEnv, TreeObsForRailEnv\nfrom obs_utils import normalize_observation\nfrom gym import spaces\nfrom tqdm import tqdm\n\n\nseed = 69 #nice \n\n\nwidth = 10 # @param{type: \"integer\"}\nheight = 10 # @param{type: \"integer\"}\nnum_agents =  2  # @param{type: \"integer\"}\ntree_depth = 2 # @param{type: \"integer\"}\nradius_observation = 10\nWINDOW_LENGTH =   22# @param{type: \"integer\"}\n\n\nrandom_rail_generator = complex_rail_generator(\n    nr_start_goal=10, # @param{type:\"integer\"} number of start and end goals \n                      # connections, the higher the easier it should be for \n                      # the trains\n    nr_extra=10, # @param{type:\"integer\"} extra connections \n                 # (useful for alternite paths), the higher the easier\n    min_dist=10,\n    max_dist=99999,\n    seed=seed\n)\n\nenv = RailEnv(\n    width=width,\n    height=height,\n    rail_generator=random_rail_generator,\n    obs_builder_object=TreeObsForRailEnv(tree_depth),\n    number_of_agents=num_agents\n)\n\nobs, info = env.reset()\n\n\nstate_shape = normalize_observation(obs[0], tree_depth, radius_observation).shape\naction_shape = (5,)",
      "execution_count": 2,
      "outputs": []
    },
    {
      "cell_type": "code",
      "metadata": {
        "id": "XMCXZFsn2ldc",
        "colab_type": "code",
        "colab": {},
        "cell_id": "00001-75aee770-84a2-4fc3-9bba-6088540fb96e",
        "deepnote_to_be_reexecuted": false,
        "source_hash": "1c3bcded",
        "execution_millis": 4620,
        "execution_start": 1618216436932,
        "deepnote_cell_type": "code"
      },
      "source": "import tensorflow as tf \nimport numpy as np \nfrom tensorflow.keras.models import load_model",
      "execution_count": 3,
      "outputs": []
    },
    {
      "cell_type": "code",
      "metadata": {
        "id": "x905pF9e20y6",
        "colab_type": "code",
        "colab": {},
        "cell_id": "00004-c8981471-911c-43f4-aea9-42cfc91853ad",
        "deepnote_to_be_reexecuted": false,
        "source_hash": "ff644ea8",
        "execution_millis": 21,
        "execution_start": 1618216441557,
        "deepnote_cell_type": "code"
      },
      "source": "class DDDQN(tf.keras.Model):\n    def __init__(self):\n      super(DDDQN, self).__init__()\n      self.d1 = tf.keras.layers.Dense(128, activation='relu')\n      self.d2 = tf.keras.layers.Dense(128, activation='relu')\n      self.v = tf.keras.layers.Dense(1, activation=None)\n      self.a = tf.keras.layers.Dense(5, activation=None) # TODO: Change this please\n\n    def call(self, input_data):\n      x = self.d1(input_data)\n      x = self.d2(x)\n      v = self.v(x)\n      a = self.a(x)\n      Q = v +(a -tf.math.reduce_mean(a, axis=1, keepdims=True))\n      return Q\n\n    def advantage(self, state):\n      x = self.d1(state)\n      x = self.d2(x)\n      a = self.a(x)\n      return a\n",
      "execution_count": 4,
      "outputs": []
    },
    {
      "cell_type": "code",
      "metadata": {
        "id": "ZF7gFMGU8Zk8",
        "colab_type": "code",
        "colab": {},
        "cell_id": "00005-7758ff4e-30bc-407f-8cd2-00b9685e2633",
        "deepnote_to_be_reexecuted": false,
        "source_hash": "480b5dca",
        "execution_millis": 50,
        "execution_start": 1618216441607,
        "deepnote_cell_type": "code"
      },
      "source": "class exp_replay():\n    def __init__(self, buffer_size= 1000000):\n        self.buffer_size = buffer_size\n\n        self.state_mem = np.zeros((self.buffer_size, *state_shape), dtype=np.float32)\n        self.action_mem = np.zeros((self.buffer_size), dtype=np.int32) #SIMMY: I removed , *action_shape cause we should just save one action per agent, not all of them\n        self.reward_mem = np.zeros((self.buffer_size), dtype=np.float32)\n        self.next_state_mem = np.zeros((self.buffer_size, *state_shape), dtype=np.float32)\n        self.done_mem = np.zeros((self.buffer_size), dtype=np.bool)\n        self.pointer = 0\n\n    def add_exp(self, state, action, reward, next_state, done):\n        idx  = self.pointer % self.buffer_size \n        self.state_mem[idx] = state\n        self.action_mem[idx] = action\n        self.reward_mem[idx] = reward\n        self.next_state_mem[idx] = next_state\n        self.done_mem[idx] = 1 - int(done)\n        self.pointer += 1\n\n    def sample_exp(self, batch_size= 64):\n        max_mem = min(self.pointer, self.buffer_size)\n        batch = np.random.choice(max_mem, batch_size, replace=False)\n        states = self.state_mem[batch]\n        actions = self.action_mem[batch]\n        rewards = self.reward_mem[batch]\n        next_states = self.next_state_mem[batch]\n        dones = self.done_mem[batch]\n        return states, actions, rewards, next_states, dones\n",
      "execution_count": 5,
      "outputs": []
    },
    {
      "cell_type": "code",
      "metadata": {
        "id": "mIo_4GpjDukC",
        "colab_type": "code",
        "colab": {},
        "cell_id": "00006-cbf92a6c-3abf-4841-8f8d-28d772751097",
        "deepnote_to_be_reexecuted": false,
        "source_hash": "aee29a99",
        "execution_millis": 41,
        "execution_start": 1618216441681,
        "deepnote_cell_type": "code"
      },
      "source": "class agent():\n      def __init__(self, gamma=0.99, replace=100, lr=0.001):\n          self.gamma = gamma\n          self.epsilon = 1.0\n          self.min_epsilon = 0.01\n          self.epsilon_decay = 1e-3\n          self.replace = replace\n          self.trainstep = 0\n          self.memory = exp_replay()\n          self.batch_size = 64\n          self.q_net = DDDQN()\n          self.target_net = DDDQN()\n          opt = tf.keras.optimizers.Adam(learning_rate=lr)\n          self.q_net.compile(loss='mse', optimizer=opt)\n          self.target_net.compile(loss='mse', optimizer=opt)\n\n\n      def act(self, state):\n          if np.random.rand() <= self.epsilon:\n              return np.random.choice([i for i in range(5)]) # TODO: change the 5\n\n          else:\n              actions = self.q_net.advantage(np.array([state]))\n              action = np.argmax(actions)\n              return action\n\n      def update_mem(self, state, action, reward, next_state, done):\n          self.memory.add_exp(state, action, reward, next_state, done)\n\n      def update_target(self):\n          self.target_net.set_weights(self.q_net.get_weights())     \n\n      def update_epsilon(self):\n          self.epsilon = self.epsilon - self.epsilon_decay if self.epsilon > self.min_epsilon else self.min_epsilon\n          return self.epsilon\n   \n      def train(self):\n          if self.memory.pointer < self.batch_size:\n             return \n          \n          if self.trainstep % self.replace == 0:\n             self.update_target()\n          states, actions, rewards, next_states, dones = self.memory.sample_exp(self.batch_size)\n          target = self.q_net.predict(states)\n          next_state_val = self.target_net.predict(next_states)\n          max_action = np.argmax(self.q_net.predict(next_states), axis=1)\n          batch_index = np.arange(self.batch_size, dtype=np.int32)\n          q_target = np.copy(target)\n          q_target[batch_index, actions] = rewards + self.gamma * next_state_val[batch_index, max_action]*dones\n          self.q_net.train_on_batch(states, q_target)\n          self.update_epsilon()\n          self.trainstep += 1\n\n      def save_model(self):\n          self.q_net.save(\"model.h5\")\n          self.target_net.save(\"target_model.h5\")\n\n      def load_model(self):\n          self.q_net = load_model(\"model.h5\")\n          self.target_net = load_model(\"model.h5\")",
      "execution_count": 6,
      "outputs": []
    },
    {
      "cell_type": "code",
      "metadata": {
        "tags": [],
        "cell_id": "00006-367ebf90-92ca-4d7d-ac12-7c409e317dbd",
        "deepnote_to_be_reexecuted": false,
        "source_hash": "8f52a5e8",
        "execution_millis": 28306,
        "execution_start": 1618216475005,
        "deepnote_cell_type": "code"
      },
      "source": "\nagent007 = agent()\n\n# Train for 300 episodes\nfor episode in range(3000):\n    # Initialize episode\n    states, info = env.reset()\n    #env_renderer = RenderTool(env)\n    done = {i: False for i in range(0, num_agents)}\n    done[\"__all__\"] = False\n    scores = 0\n    scores_window = []\n\n    \n    while not done[\"__all__\"]:\n        actions = {}\n        agents_obs = {}\n        \n        for i in range(0, num_agents):\n            if not done[i]:\n                agents_obs[i] = normalize_observation(states[i], tree_depth, radius_observation)\n                actions[i] = agent007.act(agents_obs[i])\n            \n                \n        next_obs, all_rewards, done, info = env.step(actions) #base env\n        #env_renderer.render_env(show=True)\n        for i in range(num_agents):\n            if not done[i]:\n                normalized_next_obs = normalize_observation(next_obs[i], tree_depth, radius_observation)\n                agent007.update_mem(agents_obs[i], actions[i], all_rewards[i], normalized_next_obs, done[i])\n            elif i in agents_obs: #SIMMY: It was just an else. It worked on the first loop after the \"done\", but then we set agents_obs to {} so it wasn't filled anymore!\n                agent007.update_mem(agents_obs[i], actions[i], all_rewards[i], agents_obs[i], done[i])\n            scores += all_rewards[i]/num_agents\n        agent007.train()\n        scores_window.append(scores)\n    print(f\"Final reward in episode {episode} was {np.mean(scores_window)}\")\n\n    #sum_rewards += reward\n",
      "execution_count": 7,
      "outputs": [
        {
          "name": "stdout",
          "text": "Final reward in episode 0 was -75.5\n",
          "output_type": "stream"
        }
      ]
    },
    {
      "cell_type": "markdown",
      "source": "<a style='text-decoration:none;line-height:16px;display:flex;color:#5B5B62;padding:10px;justify-content:end;' href='https://deepnote.com?utm_source=created-in-deepnote-cell&projectId=c8b2a743-4403-48d9-b1f8-a1215902878c' target=\"_blank\">\n<img alt='Created in deepnote.com' style='display:inline;max-height:16px;margin:0px;margin-right:7.5px;' src='data:image/svg+xml;base64,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' > </img>\nCreated in <span style='font-weight:600;margin-left:4px;'>Deepnote</span></a>",
      "metadata": {
        "tags": [],
        "created_in_deepnote_cell": true,
        "deepnote_cell_type": "markdown"
      }
    }
  ],
  "nbformat": 4,
  "nbformat_minor": 0,
  "metadata": {
    "colab": {
      "name": "DDDQN.ipynb",
      "provenance": [],
      "authorship_tag": "ABX9TyMpjvv15j/RfADBeqqV/yrZ",
      "include_colab_link": true
    },
    "kernelspec": {
      "name": "python3",
      "display_name": "Python 3"
    },
    "deepnote_notebook_id": "c31c442b-ef39-4b97-95f1-2477b566b21c",
    "deepnote": {},
    "deepnote_execution_queue": [
      {
        "cellId": "00006-367ebf90-92ca-4d7d-ac12-7c409e317dbd",
        "sessionId": "f8dc6d81-52cd-44c7-acfe-5dbf33302d5f",
        "msgId": "41b96a76-d263-4186-95da-0351518c50b4"
      }
    ]
  }
}